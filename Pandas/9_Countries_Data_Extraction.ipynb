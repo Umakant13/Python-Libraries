{
 "cells": [
  {
   "cell_type": "code",
   "execution_count": null,
   "id": "59f7f09d-65da-4be4-9325-bc3941127a82",
   "metadata": {},
   "outputs": [],
   "source": []
  }
 ],
 "metadata": {
  "kernelspec": {
   "display_name": "",
   "name": ""
  },
  "language_info": {
   "name": ""
  }
 },
 "nbformat": 4,
 "nbformat_minor": 5
}
