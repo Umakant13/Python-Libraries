{
 "cells": [
  {
   "cell_type": "code",
   "execution_count": 2,
   "id": "8dab7125-b5a9-4c4c-a15b-3b9fdb27ce49",
   "metadata": {},
   "outputs": [],
   "source": [
    "import numpy as np"
   ]
  },
  {
   "cell_type": "markdown",
   "id": "b095c066-9b7f-4fc7-9ddc-53f1d09d3826",
   "metadata": {},
   "source": [
    "### Valid Sudoku"
   ]
  },
  {
   "cell_type": "code",
   "execution_count": 12,
   "id": "e1862d64-9803-4a50-8e64-de0beacc16fa",
   "metadata": {},
   "outputs": [],
   "source": [
    " s = np.array([\n",
    "    [5,3,4, 6,7,8, 9,1,2],\n",
    "    [6,7,2, 1,9,5, 3,4,8],\n",
    "    [1,9,8, 3,4,2, 5,6,7],\n",
    "\n",
    "    [8,5,9, 7,6,1, 4,2,3],\n",
    "    [4,2,6, 8,5,3, 7,9,1],\n",
    "    [7,1,3, 9,2,4, 8,5,6],\n",
    "\n",
    "    [9,6,1, 5,3,7, 2,8,4],\n",
    "    [2,8,7, 4,1,9, 6,3,5],\n",
    "    [3,4,5, 2,8,6, 1,7,9]\n",
    "\n",
    " ])"
   ]
  },
  {
   "cell_type": "code",
   "execution_count": 15,
   "id": "0e7bc279-8691-4189-abb9-fb9943a141a6",
   "metadata": {},
   "outputs": [
    {
     "name": "stdout",
     "output_type": "stream",
     "text": [
      "For rows it is a valid sudoku\n"
     ]
    }
   ],
   "source": [
    "a = np.sum(s, axis = 1)\n",
    "\n",
    "for i in a:\n",
    "    if i !=45:\n",
    "        print(\"Not a valid sudoku\")\n",
    "        break\n",
    "else:\n",
    "    print(\"For rows it is a valid sudoku\")"
   ]
  },
  {
   "cell_type": "code",
   "execution_count": 16,
   "id": "bd38ee93-db7e-4a94-af0a-673908e6d184",
   "metadata": {},
   "outputs": [
    {
     "name": "stdout",
     "output_type": "stream",
     "text": [
      "For rows it is a valid sudoku\n"
     ]
    }
   ],
   "source": [
    "b = np.sum(s, axis =0)\n",
    "\n",
    "for i in b:\n",
    "    if i !=45:\n",
    "        print(\"Not a valid sudoku\")\n",
    "        break\n",
    "else:\n",
    "    print(\"For columns it is a valid sudoku\")"
   ]
  },
  {
   "cell_type": "code",
   "execution_count": 25,
   "id": "34c89115-4cfa-40e5-a64b-0fa5e52c8f81",
   "metadata": {},
   "outputs": [
    {
     "data": {
      "text/plain": [
       "array([[5, 3, 4],\n",
       "       [6, 7, 2],\n",
       "       [1, 9, 8]])"
      ]
     },
     "execution_count": 25,
     "metadata": {},
     "output_type": "execute_result"
    }
   ],
   "source": [
    "slice_1 = s[: 3, : 3]\n",
    "slice_1"
   ]
  },
  {
   "cell_type": "code",
   "execution_count": 22,
   "id": "68462950-3f0c-4162-ab08-990ca9fdaec8",
   "metadata": {},
   "outputs": [
    {
     "data": {
      "text/plain": [
       "array([[6, 7, 8],\n",
       "       [1, 9, 5],\n",
       "       [3, 4, 2]])"
      ]
     },
     "execution_count": 22,
     "metadata": {},
     "output_type": "execute_result"
    }
   ],
   "source": [
    "slice_2 = s[:3, 3:6]\n",
    "slice_2"
   ]
  },
  {
   "cell_type": "code",
   "execution_count": 24,
   "id": "310ca68e-570f-46d3-8bba-2c9d6adaf7a7",
   "metadata": {},
   "outputs": [
    {
     "data": {
      "text/plain": [
       "array([[9, 1, 2],\n",
       "       [3, 4, 8],\n",
       "       [5, 6, 7]])"
      ]
     },
     "execution_count": 24,
     "metadata": {},
     "output_type": "execute_result"
    }
   ],
   "source": [
    "slice_3 = s[: 3, 6:]\n",
    "slice_3"
   ]
  },
  {
   "cell_type": "code",
   "execution_count": 30,
   "id": "8269d5f0-268d-4c5c-84df-c8cf93221b3f",
   "metadata": {},
   "outputs": [
    {
     "name": "stdout",
     "output_type": "stream",
     "text": [
      "45\n",
      "45\n",
      "45\n",
      "45\n",
      "45\n",
      "45\n",
      "45\n",
      "45\n",
      "45\n"
     ]
    }
   ],
   "source": [
    "for i in range(0, 9, 3):   #In a simpler way\n",
    "\n",
    "    for j in range(0, 9, 3):\n",
    "        n = s[i: i+3, j: j+3]\n",
    "        print(n.sum())"
   ]
  },
  {
   "cell_type": "markdown",
   "id": "f0b40e86-e56f-4936-b56d-c365c1b5c9af",
   "metadata": {},
   "source": [
    "### General Questions"
   ]
  },
  {
   "cell_type": "code",
   "execution_count": 49,
   "id": "5f86b546-fb4e-4a63-92e4-c4f8ae5f7905",
   "metadata": {},
   "outputs": [],
   "source": [
    "import numpy as np\n",
    "\n",
    "#Columns : [Age, Maths Marks, Science Marks]\n",
    "\n",
    "data = np.array([\n",
    "\n",
    "    [18, 85, 78],\n",
    "    [19, 92, 88],\n",
    "    [17, 76, 95],\n",
    "    [18, 65, 70],\n",
    "    [20, 91, 85]\n",
    "])"
   ]
  },
  {
   "cell_type": "code",
   "execution_count": 35,
   "id": "f7ffe87e-bb7e-4faa-8723-0ea70c829575",
   "metadata": {},
   "outputs": [
    {
     "data": {
      "text/plain": [
       "(5, 3)"
      ]
     },
     "execution_count": 35,
     "metadata": {},
     "output_type": "execute_result"
    }
   ],
   "source": [
    "#Get Shape of the matrix\n",
    "\n",
    "data.shape"
   ]
  },
  {
   "cell_type": "code",
   "execution_count": 37,
   "id": "457dc549-6832-4b27-9c64-2d313c986c32",
   "metadata": {},
   "outputs": [
    {
     "data": {
      "text/plain": [
       "np.float64(18.4)"
      ]
     },
     "execution_count": 37,
     "metadata": {},
     "output_type": "execute_result"
    }
   ],
   "source": [
    "#Find the average age of students\n",
    "avg = np.mean(data[: , 0])\n",
    "avg"
   ]
  },
  {
   "cell_type": "code",
   "execution_count": 38,
   "id": "cdf9f973-d603-485d-9910-def485740436",
   "metadata": {},
   "outputs": [
    {
     "data": {
      "text/plain": [
       "np.float64(81.6)"
      ]
     },
     "execution_count": 38,
     "metadata": {},
     "output_type": "execute_result"
    }
   ],
   "source": [
    "# Find the average of students in maths\n",
    "maths_avg = np.mean(data[ :, 1])\n",
    "maths_avg\n"
   ]
  },
  {
   "cell_type": "code",
   "execution_count": 52,
   "id": "c8a48350-4694-4d8d-8bac-46ef97fbfeca",
   "metadata": {},
   "outputs": [
    {
     "data": {
      "text/plain": [
       "array([85, 92, 76, 65, 91])"
      ]
     },
     "execution_count": 52,
     "metadata": {},
     "output_type": "execute_result"
    }
   ],
   "source": [
    "#Extract maths marks of all students\n",
    "\n",
    "maths = data[:, 1]\n",
    "maths"
   ]
  },
  {
   "cell_type": "code",
   "execution_count": 41,
   "id": "5cca3aa7-9402-4cbe-9221-8a3af2fa69bd",
   "metadata": {},
   "outputs": [
    {
     "data": {
      "text/plain": [
       "np.int64(95)"
      ]
     },
     "execution_count": 41,
     "metadata": {},
     "output_type": "execute_result"
    }
   ],
   "source": [
    "#Find the highest Science mark\n",
    "\n",
    "high_science = np.max(data[:, 2])\n",
    "high_science"
   ]
  },
  {
   "cell_type": "code",
   "execution_count": 50,
   "id": "a4db3775-7289-4dce-9dbb-4fe0bf6bf30e",
   "metadata": {},
   "outputs": [
    {
     "data": {
      "text/plain": [
       "array([[19, 92, 88],\n",
       "       [20, 91, 85]])"
      ]
     },
     "execution_count": 50,
     "metadata": {},
     "output_type": "execute_result"
    }
   ],
   "source": [
    "# Get details of the student who scored more than 90 in Maths\n",
    "\n",
    "data[data[:, 1] > 90]\n",
    "\n"
   ]
  },
  {
   "cell_type": "code",
   "execution_count": 54,
   "id": "15e0e958-76e6-47b0-94cb-cd9fde0361fe",
   "metadata": {},
   "outputs": [
    {
     "data": {
      "text/plain": [
       "array([90, 97, 81, 70, 96])"
      ]
     },
     "execution_count": 54,
     "metadata": {},
     "output_type": "execute_result"
    }
   ],
   "source": [
    "#Increase maths marks of all students by 5\n",
    "\n",
    "maths + 5"
   ]
  },
  {
   "cell_type": "code",
   "execution_count": 56,
   "id": "5f0eb513-8d7c-4eae-a315-6d711d529079",
   "metadata": {},
   "outputs": [
    {
     "data": {
      "text/plain": [
       "array([ True, False,  True,  True, False])"
      ]
     },
     "execution_count": 56,
     "metadata": {},
     "output_type": "execute_result"
    }
   ],
   "source": [
    "#Find how many students are younger than 19\n",
    "\n",
    "age = data[:, 0] < 19\n",
    "age"
   ]
  },
  {
   "cell_type": "code",
   "execution_count": 58,
   "id": "5ce1b905-6459-4bc9-9b15-61873ca60a56",
   "metadata": {},
   "outputs": [
    {
     "data": {
      "text/plain": [
       "3"
      ]
     },
     "execution_count": 58,
     "metadata": {},
     "output_type": "execute_result"
    }
   ],
   "source": [
    "len(data[data[:, 0] < 19])"
   ]
  },
  {
   "cell_type": "code",
   "execution_count": 66,
   "id": "ba0b3fb8-434e-48a3-bca5-a715d914fb8c",
   "metadata": {},
   "outputs": [
    {
     "data": {
      "text/plain": [
       "array([81.8, 83.2])"
      ]
     },
     "execution_count": 66,
     "metadata": {},
     "output_type": "execute_result"
    }
   ],
   "source": [
    "#Calculate the average marks in each subject (column-wise meana)\n",
    "\n",
    "np.mean(data[:, 1:], axis =0)\n"
   ]
  },
  {
   "cell_type": "code",
   "execution_count": 71,
   "id": "4bbbb930-2969-42fe-b1dd-24b57fade78e",
   "metadata": {},
   "outputs": [
    {
     "data": {
      "text/plain": [
       "array([[19, 92, 88],\n",
       "       [20, 91, 85]])"
      ]
     },
     "execution_count": 71,
     "metadata": {},
     "output_type": "execute_result"
    }
   ],
   "source": [
    "#Get data of students who scored at least 80 in both subjectsa\n",
    "\n",
    "data[ (data[: , 1] >=80) & (data[:, 2] >=80) ]\n"
   ]
  },
  {
   "cell_type": "code",
   "execution_count": 75,
   "id": "1525b791-ac15-4472-996f-b16b8b03f274",
   "metadata": {},
   "outputs": [
    {
     "data": {
      "text/plain": [
       "array([[18, 85, 78],\n",
       "       [19, 92, 88],\n",
       "       [17, 76, 95],\n",
       "       [18, 65,  0],\n",
       "       [20, 91, 85]])"
      ]
     },
     "execution_count": 75,
     "metadata": {},
     "output_type": "execute_result"
    }
   ],
   "source": [
    "#Replace all science marks <75 with 0\n",
    "\n",
    "data[:, 2] [data[:, 2] < 75 ] =0\n",
    "data"
   ]
  },
  {
   "cell_type": "code",
   "execution_count": 74,
   "id": "8e140e1a-8bdf-4826-bd9d-7defc659dc5a",
   "metadata": {},
   "outputs": [
    {
     "data": {
      "text/plain": [
       "0"
      ]
     },
     "execution_count": 74,
     "metadata": {},
     "output_type": "execute_result"
    }
   ],
   "source": [
    "\n"
   ]
  },
  {
   "cell_type": "code",
   "execution_count": null,
   "id": "b19061dd-cdbe-45c7-a2c5-af62ea52c866",
   "metadata": {},
   "outputs": [],
   "source": []
  },
  {
   "cell_type": "code",
   "execution_count": null,
   "id": "7731fd1d-8129-44af-9c70-bcfa126ea069",
   "metadata": {},
   "outputs": [],
   "source": []
  }
 ],
 "metadata": {
  "kernelspec": {
   "display_name": "Python [conda env:base] *",
   "language": "python",
   "name": "conda-base-py"
  },
  "language_info": {
   "codemirror_mode": {
    "name": "ipython",
    "version": 3
   },
   "file_extension": ".py",
   "mimetype": "text/x-python",
   "name": "python",
   "nbconvert_exporter": "python",
   "pygments_lexer": "ipython3",
   "version": "3.13.5"
  }
 },
 "nbformat": 4,
 "nbformat_minor": 5
}
