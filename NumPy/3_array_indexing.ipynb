{
 "cells": [
  {
   "cell_type": "code",
   "execution_count": 2,
   "id": "428999ca-c973-40e8-8553-5ce8d30ec9b4",
   "metadata": {},
   "outputs": [],
   "source": [
    "import numpy as np"
   ]
  },
  {
   "cell_type": "markdown",
   "id": "bf31482b-4b90-4cf0-9e70-ec1766badf8e",
   "metadata": {},
   "source": [
    "### NumPy Indexing and Slicing of Vectors"
   ]
  },
  {
   "cell_type": "code",
   "execution_count": 4,
   "id": "f912b64e-9cdf-4c2d-8d0f-ec414c93c167",
   "metadata": {},
   "outputs": [
    {
     "data": {
      "text/plain": [
       "array([11, 12, 13, 14, 15, 16, 17, 18, 19, 20])"
      ]
     },
     "execution_count": 4,
     "metadata": {},
     "output_type": "execute_result"
    }
   ],
   "source": [
    "arr = np.arange(11,21)\n",
    "arr"
   ]
  },
  {
   "cell_type": "code",
   "execution_count": 5,
   "id": "2bf6bb23-a6c8-49e7-bb20-562c8a0f2044",
   "metadata": {},
   "outputs": [
    {
     "data": {
      "text/plain": [
       "np.int64(17)"
      ]
     },
     "execution_count": 5,
     "metadata": {},
     "output_type": "execute_result"
    }
   ],
   "source": [
    "arr[6]  #Indexing"
   ]
  },
  {
   "cell_type": "code",
   "execution_count": 6,
   "id": "cd51a6d2-27fc-4016-ba50-1f90b2d9db56",
   "metadata": {},
   "outputs": [
    {
     "data": {
      "text/plain": [
       "array([12, 13, 14, 15])"
      ]
     },
     "execution_count": 6,
     "metadata": {},
     "output_type": "execute_result"
    }
   ],
   "source": [
    "arr[1: 5] #Slicing  "
   ]
  },
  {
   "cell_type": "code",
   "execution_count": 7,
   "id": "1e57103b-e58c-4d54-9ac3-10170814c7c8",
   "metadata": {},
   "outputs": [
    {
     "data": {
      "text/plain": [
       "array([11, 12, 13, 14, 15])"
      ]
     },
     "execution_count": 7,
     "metadata": {},
     "output_type": "execute_result"
    }
   ],
   "source": [
    "arr[:5]  #From 0 to 5"
   ]
  },
  {
   "cell_type": "code",
   "execution_count": 9,
   "id": "1632043f-99ff-4a5d-a6d1-beb74b892857",
   "metadata": {},
   "outputs": [
    {
     "data": {
      "text/plain": [
       "array([16, 17, 18, 19, 20])"
      ]
     },
     "execution_count": 9,
     "metadata": {},
     "output_type": "execute_result"
    }
   ],
   "source": [
    "arr[5: ]  #From 5 to last element"
   ]
  },
  {
   "cell_type": "code",
   "execution_count": 11,
   "id": "3797d2a2-dbca-499e-9258-659bd2eb99bb",
   "metadata": {},
   "outputs": [
    {
     "data": {
      "text/plain": [
       "array([14, 16, 18, 20])"
      ]
     },
     "execution_count": 11,
     "metadata": {},
     "output_type": "execute_result"
    }
   ],
   "source": [
    "arr_slice = arr[3: :2] #Step of 2\n",
    "arr_slice"
   ]
  },
  {
   "cell_type": "markdown",
   "id": "53de0179-bd8a-4242-aa05-62cd9e787d5e",
   "metadata": {},
   "source": [
    "### NumPy Indexing and Slicing of Matrix"
   ]
  },
  {
   "cell_type": "code",
   "execution_count": 12,
   "id": "6ced70e1-1916-4bf3-b059-2c865a387dc1",
   "metadata": {},
   "outputs": [
    {
     "data": {
      "text/plain": [
       "array([[ 1,  2,  3,  4,  5],\n",
       "       [ 6,  7,  8,  9, 10],\n",
       "       [11, 12, 13, 14, 15],\n",
       "       [16, 17, 18, 19, 20],\n",
       "       [21, 22, 23, 24, 25],\n",
       "       [26, 27, 28, 29, 30]])"
      ]
     },
     "execution_count": 12,
     "metadata": {},
     "output_type": "execute_result"
    }
   ],
   "source": [
    "arr = np.arange(1, 31).reshape(6, 5)\n",
    "arr"
   ]
  },
  {
   "cell_type": "code",
   "execution_count": 20,
   "id": "75e64055-147d-4193-92cf-4783957104b6",
   "metadata": {},
   "outputs": [
    {
     "data": {
      "text/plain": [
       "array([1, 2, 3, 4, 5])"
      ]
     },
     "execution_count": 20,
     "metadata": {},
     "output_type": "execute_result"
    }
   ],
   "source": [
    "row_indexing = arr[0] # Row-wise Indexing\n",
    "row_indexing"
   ]
  },
  {
   "cell_type": "code",
   "execution_count": 17,
   "id": "4cf2e72f-815c-430c-98ba-63e6b06fdd2b",
   "metadata": {},
   "outputs": [
    {
     "data": {
      "text/plain": [
       "np.int64(5)"
      ]
     },
     "execution_count": 17,
     "metadata": {},
     "output_type": "execute_result"
    }
   ],
   "source": [
    "arr[0, 4] #Get Single element"
   ]
  },
  {
   "cell_type": "code",
   "execution_count": 18,
   "id": "3d98fe37-28dd-4d69-bf6b-f73ed336713b",
   "metadata": {},
   "outputs": [
    {
     "data": {
      "text/plain": [
       "array([[2, 3],\n",
       "       [7, 8]])"
      ]
     },
     "execution_count": 18,
     "metadata": {},
     "output_type": "execute_result"
    }
   ],
   "source": [
    "sliced_matrix = arr[0: 2, 1: 3]\n",
    "sliced_matrix"
   ]
  },
  {
   "cell_type": "markdown",
   "id": "cd5fb482-1977-442e-8694-3d021ad24cac",
   "metadata": {},
   "source": [
    "matrix = arr[3: , 2: ]\n",
    "matrix"
   ]
  },
  {
   "cell_type": "code",
   "execution_count": 22,
   "id": "573fa528-b2c4-4218-b5c3-270164431684",
   "metadata": {},
   "outputs": [
    {
     "data": {
      "text/plain": [
       "array([ 3,  8, 13, 18, 23, 28])"
      ]
     },
     "execution_count": 22,
     "metadata": {},
     "output_type": "execute_result"
    }
   ],
   "source": [
    "column_indexing = arr[: , 2]  #Column-wise indexing\n",
    "column_indexing"
   ]
  },
  {
   "cell_type": "markdown",
   "id": "cc7b5cd7-112e-4a9a-bdec-1d2d5e0b4434",
   "metadata": {},
   "source": [
    "### Boolean Indexing"
   ]
  },
  {
   "cell_type": "code",
   "execution_count": 23,
   "id": "74de5f92-7650-4f16-a6cf-804da3b132d6",
   "metadata": {},
   "outputs": [
    {
     "data": {
      "text/plain": [
       "array([11, 12, 13, 14, 15, 16, 17, 18, 19, 20])"
      ]
     },
     "execution_count": 23,
     "metadata": {},
     "output_type": "execute_result"
    }
   ],
   "source": [
    "arr = np.arange(11,21)\n",
    "arr"
   ]
  },
  {
   "cell_type": "code",
   "execution_count": 28,
   "id": "4f85dcb6-6069-4844-bdc8-b681161b53dc",
   "metadata": {},
   "outputs": [
    {
     "data": {
      "text/plain": [
       "array([ True,  True,  True,  True,  True])"
      ]
     },
     "execution_count": 28,
     "metadata": {},
     "output_type": "execute_result"
    }
   ],
   "source": [
    "bool_index = arr % 2 ==0\n",
    "bool_index"
   ]
  },
  {
   "cell_type": "code",
   "execution_count": 29,
   "id": "a20b6a7e-61a0-4638-8531-59df229d32b6",
   "metadata": {},
   "outputs": [
    {
     "data": {
      "text/plain": [
       "array([12, 14, 16, 18, 20])"
      ]
     },
     "execution_count": 29,
     "metadata": {},
     "output_type": "execute_result"
    }
   ],
   "source": [
    "arr = arr[bool_index]  #Removed all the false elements\n",
    "arr"
   ]
  },
  {
   "cell_type": "code",
   "execution_count": null,
   "id": "11a8e378-555c-4b9d-80e9-c60fa819e598",
   "metadata": {},
   "outputs": [],
   "source": []
  },
  {
   "cell_type": "code",
   "execution_count": null,
   "id": "4027d08d-4f97-4625-b43d-857254893f0e",
   "metadata": {},
   "outputs": [],
   "source": []
  }
 ],
 "metadata": {
  "kernelspec": {
   "display_name": "Python [conda env:base] *",
   "language": "python",
   "name": "conda-base-py"
  },
  "language_info": {
   "codemirror_mode": {
    "name": "ipython",
    "version": 3
   },
   "file_extension": ".py",
   "mimetype": "text/x-python",
   "name": "python",
   "nbconvert_exporter": "python",
   "pygments_lexer": "ipython3",
   "version": "3.13.5"
  }
 },
 "nbformat": 4,
 "nbformat_minor": 5
}
