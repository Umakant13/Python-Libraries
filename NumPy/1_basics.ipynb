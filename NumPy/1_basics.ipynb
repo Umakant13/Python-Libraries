{
 "cells": [
  {
   "cell_type": "code",
   "execution_count": 9,
   "id": "a6c230fb-07e0-4e77-bd11-b8697bcc8f95",
   "metadata": {},
   "outputs": [],
   "source": [
    "a =12"
   ]
  },
  {
   "cell_type": "code",
   "execution_count": 10,
   "id": "722706bb-1577-492a-83c2-e47b48800e26",
   "metadata": {},
   "outputs": [
    {
     "name": "stdout",
     "output_type": "stream",
     "text": [
      "hello\n"
     ]
    }
   ],
   "source": [
    "print(\"hello\")"
   ]
  },
  {
   "cell_type": "code",
   "execution_count": 11,
   "id": "daed8e3b-122c-4200-9373-054a41ffb2e5",
   "metadata": {},
   "outputs": [],
   "source": [
    "def hello():\n",
    "    print(\"How are you\")"
   ]
  },
  {
   "cell_type": "code",
   "execution_count": 12,
   "id": "5d96ef2f-b70b-49d3-81cc-6954b469cfc0",
   "metadata": {},
   "outputs": [
    {
     "name": "stdout",
     "output_type": "stream",
     "text": [
      "How are you\n"
     ]
    }
   ],
   "source": [
    "hello()"
   ]
  },
  {
   "cell_type": "code",
   "execution_count": null,
   "id": "5e8dfddc-9a9c-45e0-96e7-76c7ea6911fb",
   "metadata": {},
   "outputs": [],
   "source": []
  }
 ],
 "metadata": {
  "kernelspec": {
   "display_name": "base",
   "language": "python",
   "name": "python3"
  },
  "language_info": {
   "codemirror_mode": {
    "name": "ipython",
    "version": 3
   },
   "file_extension": ".py",
   "mimetype": "text/x-python",
   "name": "python",
   "nbconvert_exporter": "python",
   "pygments_lexer": "ipython3",
   "version": "3.13.5"
  }
 },
 "nbformat": 4,
 "nbformat_minor": 5
}
