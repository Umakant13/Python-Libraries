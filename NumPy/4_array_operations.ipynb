{
 "cells": [
  {
   "cell_type": "code",
   "execution_count": 2,
   "id": "531cf29b-4eb1-4ad1-8b39-d66c293a352d",
   "metadata": {},
   "outputs": [],
   "source": [
    "import numpy as np"
   ]
  },
  {
   "cell_type": "markdown",
   "id": "e42f8ab2-5d85-47bc-b733-48a7da2e6559",
   "metadata": {},
   "source": [
    "### Array Operations"
   ]
  },
  {
   "cell_type": "markdown",
   "id": "82907c54-7fac-4ec0-972b-0570ac53ef9f",
   "metadata": {},
   "source": [
    "#### 1. Arithmetic Operations"
   ]
  },
  {
   "cell_type": "code",
   "execution_count": 3,
   "id": "64731ee9-279d-4419-b846-7ed40e1663f5",
   "metadata": {},
   "outputs": [
    {
     "name": "stdout",
     "output_type": "stream",
     "text": [
      "[ 1  2  3  4  5  6  7  8  9 10]\n",
      "[11 12 13 14 15 16 17 18 19 20]\n"
     ]
    }
   ],
   "source": [
    "a = np.arange(1, 11)\n",
    "b = np.arange(11, 21)\n"
   ]
  },
  {
   "cell_type": "code",
   "execution_count": 7,
   "id": "42e62e98-356a-4efb-8879-1c6672e5d40e",
   "metadata": {},
   "outputs": [
    {
     "data": {
      "text/plain": [
       "array([12, 14, 16, 18, 20, 22, 24, 26, 28, 30])"
      ]
     },
     "execution_count": 7,
     "metadata": {},
     "output_type": "execute_result"
    }
   ],
   "source": [
    "addition = a + b  # Addition of two arrays  -- Must have equal elements in both arrays\n",
    "addition"
   ]
  },
  {
   "cell_type": "code",
   "execution_count": 9,
   "id": "a7f04217-9aad-43bd-af75-3862ab1a5023",
   "metadata": {},
   "outputs": [
    {
     "data": {
      "text/plain": [
       "array([10, 10, 10, 10, 10, 10, 10, 10, 10, 10])"
      ]
     },
     "execution_count": 9,
     "metadata": {},
     "output_type": "execute_result"
    }
   ],
   "source": [
    "subtraction = b-a\n",
    "subtraction"
   ]
  },
  {
   "cell_type": "code",
   "execution_count": 10,
   "id": "9fbef5b0-b944-4450-8936-768a3a29b51b",
   "metadata": {},
   "outputs": [
    {
     "data": {
      "text/plain": [
       "array([ 11,  24,  39,  56,  75,  96, 119, 144, 171, 200])"
      ]
     },
     "execution_count": 10,
     "metadata": {},
     "output_type": "execute_result"
    }
   ],
   "source": [
    "multiplication = a * b\n",
    "multiplication"
   ]
  },
  {
   "cell_type": "code",
   "execution_count": 13,
   "id": "07bca425-d4f3-4a93-b9e2-f6289cc549f0",
   "metadata": {},
   "outputs": [
    {
     "data": {
      "text/plain": [
       "array([0.09090909, 0.16666667, 0.23076923, 0.28571429, 0.33333333,\n",
       "       0.375     , 0.41176471, 0.44444444, 0.47368421, 0.5       ])"
      ]
     },
     "execution_count": 13,
     "metadata": {},
     "output_type": "execute_result"
    }
   ],
   "source": [
    "division = a / b\n",
    "division"
   ]
  },
  {
   "cell_type": "code",
   "execution_count": 14,
   "id": "5ef7b605-c4ff-44e0-87ae-e457b82bd0f1",
   "metadata": {},
   "outputs": [
    {
     "data": {
      "text/plain": [
       "array([                  1,                4096,             1594323,\n",
       "                 268435456,         30517578125,       2821109907456,\n",
       "           232630513987207,   18014398509481984, 1350851717672992089,\n",
       "       7766279631452241920])"
      ]
     },
     "execution_count": 14,
     "metadata": {},
     "output_type": "execute_result"
    }
   ],
   "source": [
    "exponential = a **b\n",
    "exponential"
   ]
  },
  {
   "cell_type": "markdown",
   "id": "b420a548-e574-4399-803c-58662906634d",
   "metadata": {},
   "source": [
    "#### 2. Broadcasting"
   ]
  },
  {
   "cell_type": "code",
   "execution_count": 16,
   "id": "c1451c8d-dbfc-4985-bc39-0128a55abe39",
   "metadata": {},
   "outputs": [],
   "source": [
    "list = [10,20,30,40,50]\n",
    "arr = np.array(list)"
   ]
  },
  {
   "cell_type": "code",
   "execution_count": 17,
   "id": "bee94b7a-c9e5-4e65-a13b-c33399d6a05b",
   "metadata": {},
   "outputs": [
    {
     "data": {
      "text/plain": [
       "array([20, 30, 40, 50, 60])"
      ]
     },
     "execution_count": 17,
     "metadata": {},
     "output_type": "execute_result"
    }
   ],
   "source": [
    "arr + 10"
   ]
  },
  {
   "cell_type": "code",
   "execution_count": 19,
   "id": "217b8ee8-1a66-48fc-87e7-33afde23f1fe",
   "metadata": {},
   "outputs": [
    {
     "data": {
      "text/plain": [
       "array([[ 1,  2,  3,  4,  5],\n",
       "       [ 6,  7,  8,  9, 10],\n",
       "       [11, 12, 13, 14, 15],\n",
       "       [16, 17, 18, 19, 20],\n",
       "       [21, 22, 23, 24, 25]])"
      ]
     },
     "execution_count": 19,
     "metadata": {},
     "output_type": "execute_result"
    }
   ],
   "source": [
    "arr = np.arange(1, 26).reshape(5, 5)\n",
    "arr"
   ]
  },
  {
   "cell_type": "code",
   "execution_count": 20,
   "id": "6e170f14-fca7-4f7a-b691-87fd858ea888",
   "metadata": {},
   "outputs": [
    {
     "data": {
      "text/plain": [
       "array([[  5,  10,  15,  20,  25],\n",
       "       [ 30,  35,  40,  45,  50],\n",
       "       [ 55,  60,  65,  70,  75],\n",
       "       [ 80,  85,  90,  95, 100],\n",
       "       [105, 110, 115, 120, 125]])"
      ]
     },
     "execution_count": 20,
     "metadata": {},
     "output_type": "execute_result"
    }
   ],
   "source": [
    "arr * 5"
   ]
  },
  {
   "cell_type": "markdown",
   "id": "4a935425-1d49-485a-878a-ffe5f8fde3be",
   "metadata": {},
   "source": [
    "#### 3. Deep Copy And Shallow Copy"
   ]
  },
  {
   "cell_type": "code",
   "execution_count": 3,
   "id": "0c39115d-3ae1-40a5-b8cf-01510f51c72b",
   "metadata": {},
   "outputs": [
    {
     "data": {
      "text/plain": [
       "array([ 1,  2,  3,  4,  5,  6,  7,  8,  9, 10, 11, 12, 13, 14, 15, 16, 17,\n",
       "       18, 19, 20])"
      ]
     },
     "execution_count": 3,
     "metadata": {},
     "output_type": "execute_result"
    }
   ],
   "source": [
    "a = np.arange(1,21)\n",
    "a"
   ]
  },
  {
   "cell_type": "code",
   "execution_count": 6,
   "id": "41d721af-35be-4543-9b94-e67d4a115b93",
   "metadata": {},
   "outputs": [
    {
     "data": {
      "text/plain": [
       "array([10, 20, 30, 40, 50])"
      ]
     },
     "execution_count": 6,
     "metadata": {},
     "output_type": "execute_result"
    }
   ],
   "source": [
    "slice = a[:5]\n",
    "slice = slice * 10\n",
    "slice"
   ]
  },
  {
   "cell_type": "code",
   "execution_count": 7,
   "id": "3757c17e-1af4-4f29-b7b1-874969d94407",
   "metadata": {},
   "outputs": [
    {
     "data": {
      "text/plain": [
       "array([ 1,  2,  3,  4,  5,  6,  7,  8,  9, 10, 11, 12, 13, 14, 15, 16, 17,\n",
       "       18, 19, 20])"
      ]
     },
     "execution_count": 7,
     "metadata": {},
     "output_type": "execute_result"
    }
   ],
   "source": [
    "a"
   ]
  },
  {
   "cell_type": "code",
   "execution_count": 9,
   "id": "545d9bf9-6ba7-4ad4-ae72-fc5c218ea7ed",
   "metadata": {},
   "outputs": [
    {
     "data": {
      "text/plain": [
       "array([1, 2, 3, 4])"
      ]
     },
     "execution_count": 9,
     "metadata": {},
     "output_type": "execute_result"
    }
   ],
   "source": [
    "arr = np.array([1,2,3,4])\n",
    "arr"
   ]
  },
  {
   "cell_type": "code",
   "execution_count": 21,
   "id": "4ee8edb0-2e2f-49b7-96bf-bea9e68eb83d",
   "metadata": {},
   "outputs": [],
   "source": [
    "shallow = arr.view()  #Shallow Copy\n",
    "shallow[0] = 99"
   ]
  },
  {
   "cell_type": "code",
   "execution_count": 11,
   "id": "33e76c91-65ca-452e-bdb5-1d911eae204a",
   "metadata": {},
   "outputs": [
    {
     "data": {
      "text/plain": [
       "array([99,  2,  3,  4])"
      ]
     },
     "execution_count": 11,
     "metadata": {},
     "output_type": "execute_result"
    }
   ],
   "source": [
    "shallow   "
   ]
  },
  {
   "cell_type": "code",
   "execution_count": 20,
   "id": "c864a15f-297f-44c0-9858-1b443c408905",
   "metadata": {},
   "outputs": [
    {
     "data": {
      "text/plain": [
       "array([99,  2,  3,  4])"
      ]
     },
     "execution_count": 20,
     "metadata": {},
     "output_type": "execute_result"
    }
   ],
   "source": [
    "arr # Changes in original array"
   ]
  },
  {
   "cell_type": "code",
   "execution_count": 14,
   "id": "6b3a049a-066c-48a5-a4d0-09bbd76774d0",
   "metadata": {},
   "outputs": [
    {
     "data": {
      "text/plain": [
       "array([1, 2, 3, 4])"
      ]
     },
     "execution_count": 14,
     "metadata": {},
     "output_type": "execute_result"
    }
   ],
   "source": [
    "arr1 = np.array([1,2,3,4])\n",
    "arr1"
   ]
  },
  {
   "cell_type": "code",
   "execution_count": 16,
   "id": "999b3e9c-1047-4ad3-aefa-0837c05a65e5",
   "metadata": {},
   "outputs": [],
   "source": [
    "deep = arr1.copy() #Deep Copy\n",
    "deep[0] = 77"
   ]
  },
  {
   "cell_type": "code",
   "execution_count": 17,
   "id": "32b14c34-4c8f-4783-8137-f5a564a0e246",
   "metadata": {},
   "outputs": [
    {
     "data": {
      "text/plain": [
       "array([77,  2,  3,  4])"
      ]
     },
     "execution_count": 17,
     "metadata": {},
     "output_type": "execute_result"
    }
   ],
   "source": [
    "deep"
   ]
  },
  {
   "cell_type": "code",
   "execution_count": 19,
   "id": "0916ed77-4659-4872-9aad-b4e994fcc0c6",
   "metadata": {},
   "outputs": [
    {
     "data": {
      "text/plain": [
       "array([1, 2, 3, 4])"
      ]
     },
     "execution_count": 19,
     "metadata": {},
     "output_type": "execute_result"
    }
   ],
   "source": [
    "arr1  # No Changes in original array"
   ]
  },
  {
   "cell_type": "markdown",
   "id": "5e5e4ed9-4315-4e39-b106-db7f39d4c61e",
   "metadata": {},
   "source": [
    "#### 4. Matrix Operations"
   ]
  },
  {
   "cell_type": "code",
   "execution_count": 23,
   "id": "f626526a-cf31-4a48-a4e3-046d9f35e9b5",
   "metadata": {},
   "outputs": [],
   "source": [
    "A = np.array([[1,2], [3,4]])\n",
    "B = np.array([[5,6], [7,8]])"
   ]
  },
  {
   "cell_type": "code",
   "execution_count": 24,
   "id": "defb44e6-1ff6-490c-800d-7d58dce1c110",
   "metadata": {},
   "outputs": [
    {
     "data": {
      "text/plain": [
       "array([[1, 2],\n",
       "       [3, 4]])"
      ]
     },
     "execution_count": 24,
     "metadata": {},
     "output_type": "execute_result"
    }
   ],
   "source": [
    "A"
   ]
  },
  {
   "cell_type": "code",
   "execution_count": 25,
   "id": "3c1b836f-9dd9-4e28-a4c0-d4f135334632",
   "metadata": {},
   "outputs": [
    {
     "data": {
      "text/plain": [
       "array([[5, 6],\n",
       "       [7, 8]])"
      ]
     },
     "execution_count": 25,
     "metadata": {},
     "output_type": "execute_result"
    }
   ],
   "source": [
    "B"
   ]
  },
  {
   "cell_type": "code",
   "execution_count": 27,
   "id": "38ad2c8a-141d-471d-a18e-fb9d6085887e",
   "metadata": {},
   "outputs": [
    {
     "data": {
      "text/plain": [
       "array([[19, 22],\n",
       "       [43, 50]])"
      ]
     },
     "execution_count": 27,
     "metadata": {},
     "output_type": "execute_result"
    }
   ],
   "source": [
    "A @ B"
   ]
  },
  {
   "cell_type": "code",
   "execution_count": 28,
   "id": "e547b7cb-b7bb-434e-ad5f-680f8ddc419a",
   "metadata": {},
   "outputs": [
    {
     "data": {
      "text/plain": [
       "array([[19, 22],\n",
       "       [43, 50]])"
      ]
     },
     "execution_count": 28,
     "metadata": {},
     "output_type": "execute_result"
    }
   ],
   "source": [
    "np.dot(A, B)"
   ]
  },
  {
   "cell_type": "code",
   "execution_count": 29,
   "id": "913ca788-bb43-4446-b2a7-bf6c70eb63f1",
   "metadata": {},
   "outputs": [
    {
     "data": {
      "text/plain": [
       "array([[1, 3],\n",
       "       [2, 4]])"
      ]
     },
     "execution_count": 29,
     "metadata": {},
     "output_type": "execute_result"
    }
   ],
   "source": [
    "A.T"
   ]
  },
  {
   "cell_type": "markdown",
   "id": "b3c30463-e077-4188-a6d9-1b0b26a1dc64",
   "metadata": {},
   "source": [
    "#### 5. Advance Array Manipulation"
   ]
  },
  {
   "cell_type": "markdown",
   "id": "93fc0974-9073-45b3-8bca-a3013b889a35",
   "metadata": {},
   "source": [
    "#### Stacking Array"
   ]
  },
  {
   "cell_type": "code",
   "execution_count": 31,
   "id": "6ba7fc98-1a38-4c4b-b8f4-7269d9c9b0ee",
   "metadata": {},
   "outputs": [],
   "source": [
    "a = np.array([1,2,3,4])\n",
    "b = np.array([5,6,7,8])"
   ]
  },
  {
   "cell_type": "code",
   "execution_count": 33,
   "id": "3e2fc9c1-2702-4fb1-b38d-9146dfe888e8",
   "metadata": {},
   "outputs": [
    {
     "data": {
      "text/plain": [
       "array([[1, 2, 3, 4],\n",
       "       [5, 6, 7, 8]])"
      ]
     },
     "execution_count": 33,
     "metadata": {},
     "output_type": "execute_result"
    }
   ],
   "source": [
    "vertical_stack = np.vstack((a,b))  #Vertical stack\n",
    "vertical_stack"
   ]
  },
  {
   "cell_type": "code",
   "execution_count": 34,
   "id": "d7dcda1f-9cda-47be-b3a3-aa0d70cd411f",
   "metadata": {},
   "outputs": [
    {
     "data": {
      "text/plain": [
       "array([1, 2, 3, 4, 5, 6, 7, 8])"
      ]
     },
     "execution_count": 34,
     "metadata": {},
     "output_type": "execute_result"
    }
   ],
   "source": [
    "horizontal_stack = np.hstack((a, b)) #horizontal stack\n",
    "horizontal_stack"
   ]
  },
  {
   "cell_type": "code",
   "execution_count": 41,
   "id": "e0ee6774-d385-468a-bfcb-8e688984c1dd",
   "metadata": {},
   "outputs": [
    {
     "data": {
      "text/plain": [
       "array([[1, 5],\n",
       "       [2, 6],\n",
       "       [3, 7],\n",
       "       [4, 8]])"
      ]
     },
     "execution_count": 41,
     "metadata": {},
     "output_type": "execute_result"
    }
   ],
   "source": [
    "column_stack = np.column_stack((a, b)) #column stack\n",
    "column_stack"
   ]
  },
  {
   "cell_type": "markdown",
   "id": "75e04626-10d6-4ebe-81a7-b6096c1d1635",
   "metadata": {},
   "source": [
    "#### Splitting array"
   ]
  },
  {
   "cell_type": "code",
   "execution_count": 36,
   "id": "fc90f132-2372-480b-a8da-68d9f14cba2e",
   "metadata": {},
   "outputs": [
    {
     "data": {
      "text/plain": [
       "array([[ 0,  1,  2,  3],\n",
       "       [ 4,  5,  6,  7],\n",
       "       [ 8,  9, 10, 11],\n",
       "       [12, 13, 14, 15]])"
      ]
     },
     "execution_count": 36,
     "metadata": {},
     "output_type": "execute_result"
    }
   ],
   "source": [
    "c = np.arange(16).reshape(4,4)\n",
    "c"
   ]
  },
  {
   "cell_type": "code",
   "execution_count": 38,
   "id": "6e0da994-5775-4054-8251-36832baba289",
   "metadata": {},
   "outputs": [
    {
     "data": {
      "text/plain": [
       "[array([[ 0,  1],\n",
       "        [ 4,  5],\n",
       "        [ 8,  9],\n",
       "        [12, 13]]),\n",
       " array([[ 2,  3],\n",
       "        [ 6,  7],\n",
       "        [10, 11],\n",
       "        [14, 15]])]"
      ]
     },
     "execution_count": 38,
     "metadata": {},
     "output_type": "execute_result"
    }
   ],
   "source": [
    "horizontal_split = np.hsplit(c, 2)   #Horizontal Split\n",
    "horizontal_split"
   ]
  },
  {
   "cell_type": "code",
   "execution_count": 40,
   "id": "afd27f35-c4c2-4549-8679-c16efe6bed69",
   "metadata": {},
   "outputs": [
    {
     "data": {
      "text/plain": [
       "[array([[0, 1, 2, 3]]),\n",
       " array([[4, 5, 6, 7]]),\n",
       " array([[ 8,  9, 10, 11]]),\n",
       " array([[12, 13, 14, 15]])]"
      ]
     },
     "execution_count": 40,
     "metadata": {},
     "output_type": "execute_result"
    }
   ],
   "source": [
    "vertical_split = np.vsplit(c, 4) #Vertical Split\n",
    "vertical_split"
   ]
  },
  {
   "cell_type": "code",
   "execution_count": null,
   "id": "5620e908-2b59-4b02-86c4-2c77dfad2193",
   "metadata": {},
   "outputs": [],
   "source": []
  },
  {
   "cell_type": "code",
   "execution_count": null,
   "id": "33154b7b-76e9-4431-8b44-8521c57ebd0a",
   "metadata": {},
   "outputs": [],
   "source": []
  }
 ],
 "metadata": {
  "kernelspec": {
   "display_name": "Python [conda env:base] *",
   "language": "python",
   "name": "conda-base-py"
  },
  "language_info": {
   "codemirror_mode": {
    "name": "ipython",
    "version": 3
   },
   "file_extension": ".py",
   "mimetype": "text/x-python",
   "name": "python",
   "nbconvert_exporter": "python",
   "pygments_lexer": "ipython3",
   "version": "3.13.5"
  }
 },
 "nbformat": 4,
 "nbformat_minor": 5
}
